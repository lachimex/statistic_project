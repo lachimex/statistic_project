{
 "cells": [
  {
   "cell_type": "markdown",
   "id": "dfdb00fc-e9d8-4f0c-b1a0-7a7b98ee81e9",
   "metadata": {},
   "source": [
    "## Czyszczenie danych"
   ]
  },
  {
   "cell_type": "code",
   "execution_count": null,
   "id": "ec52de23-d2db-4707-a8fc-a4b064f2887f",
   "metadata": {},
   "outputs": [],
   "source": [
    "select resultId, ra.name, ra.year, d.forename, d.surname, c.name, re.position, re.laps, s.status from results re\n",
    "inner join races ra on ra.raceId = re.raceId\n",
    "inner join drivers d on d.driverId = re.driverId\n",
    "inner join constructors c on c.constructorId = re.constructorId\n",
    "inner join status s on s.statusId = re.statusId\n",
    "where laps <= 78"
   ]
  },
  {
   "cell_type": "code",
   "execution_count": 3,
   "id": "6113367e-8420-40d0-a7e1-57c327819962",
   "metadata": {},
   "outputs": [
    {
     "name": "stdout",
     "output_type": "stream",
     "text": [
      "                   race_name  race_year driver_firstname driver_lastname  \\\n",
      "0      Australian Grand Prix       2008            Lewis        Hamilton   \n",
      "1      Australian Grand Prix       2008             Nick        Heidfeld   \n",
      "2      Australian Grand Prix       2008             Nico         Rosberg   \n",
      "3      Australian Grand Prix       2008         Fernando          Alonso   \n",
      "4      Australian Grand Prix       2008           Heikki      Kovalainen   \n",
      "...                      ...        ...              ...             ...   \n",
      "26075     Belgian Grand Prix       2023           Daniel       Ricciardo   \n",
      "26076     Belgian Grand Prix       2023            Logan        Sargeant   \n",
      "26077     Belgian Grand Prix       2023             Nico     HĂĽlkenberg   \n",
      "26078     Belgian Grand Prix       2023           Carlos           Sainz   \n",
      "26079     Belgian Grand Prix       2023            Oscar         Piastri   \n",
      "\n",
      "      constructor_name  driver_final_position  laps_driven            ending  \n",
      "0              McLaren                      1           58          Finished  \n",
      "1           BMW Sauber                      2           58          Finished  \n",
      "2             Williams                      3           58          Finished  \n",
      "3              Renault                      4           58          Finished  \n",
      "4              McLaren                      5           58          Finished  \n",
      "...                ...                    ...          ...               ...  \n",
      "26075       AlphaTauri                     16           44          Finished  \n",
      "26076         Williams                     17           44          Finished  \n",
      "26077     Haas F1 Team                     18           44          Finished  \n",
      "26078          Ferrari                     19           23  Collision damage  \n",
      "26079          McLaren                     20            0  Collision damage  \n",
      "\n",
      "[26080 rows x 8 columns]\n"
     ]
    }
   ],
   "source": [
    "import sqlite3\n",
    "import pandas as pd\n",
    "import matplotlib.pyplot as plt\n",
    "import seaborn as sns\n",
    "\n",
    "# Connect to SQLite database\n",
    "db_name = 'f1.db'\n",
    "connection = sqlite3.connect(db_name)\n",
    "\n",
    "# Query the data from the table\n",
    "query = 'select ra.name, ra.year, d.forename, d.surname, c.name, re.positionOrder, re.laps, s.status from results re inner join races ra on ra.raceId = re.raceId inner join drivers d on d.driverId = re.driverId inner join constructors c on c.constructorId = re.constructorId inner join status s on s.statusId = re.statusId'\n",
    "result = connection.execute(query).fetchall()\n",
    "\n",
    "# Get column names from the cursor description\n",
    "columns = [\"race_name\", \"race_year\", \"driver_firstname\", \"driver_lastname\", \"constructor_name\", \"driver_final_position\", \"laps_driven\", \"ending\"]\n",
    "\n",
    "# Create a DataFrame\n",
    "df = pd.DataFrame(result, columns=columns)\n",
    "\n",
    "# Close the connection\n",
    "connection.close()\n",
    "\n",
    "# Print the DataFrame\n",
    "print(df)"
   ]
  },
  {
   "cell_type": "markdown",
   "id": "a5847dc7-cea9-4e81-8fa0-fd3579a60187",
   "metadata": {},
   "source": [
    "## Średnia"
   ]
  },
  {
   "cell_type": "code",
   "execution_count": null,
   "id": "e352b3c7-6755-4c54-b416-671319b06fdb",
   "metadata": {},
   "outputs": [],
   "source": [
    "def mean(values):\n",
    "    mean = 0\n",
    "    for value in values:\n",
    "        mean += value\n",
    "    mean /= len(values)\n",
    "    return mean"
   ]
  },
  {
   "cell_type": "markdown",
   "id": "8bffc713-427d-41f2-9e93-bf82b33be29a",
   "metadata": {},
   "source": [
    "## Mediana"
   ]
  },
  {
   "cell_type": "code",
   "execution_count": null,
   "id": "8e8a303b-2388-4cfc-8074-1b88977de5dc",
   "metadata": {},
   "outputs": [],
   "source": [
    "def median(values):\n",
    "    values.sort()\n",
    "    n = len(values)\n",
    "    if n % 2 == 1:\n",
    "        return values[n // 2 + 1]\n",
    "    else:\n",
    "        return (values[n // 2] + values[n // 2 + 1]) / 2"
   ]
  },
  {
   "cell_type": "markdown",
   "id": "c7aafcac-03a7-4975-83a9-09f5601fddaa",
   "metadata": {},
   "source": [
    "## Rozstęp"
   ]
  },
  {
   "cell_type": "code",
   "execution_count": null,
   "id": "568bf4bf-7bad-43da-a2a2-2ba7b5cf18e3",
   "metadata": {},
   "outputs": [],
   "source": [
    "def sample_range(values):\n",
    "    n = len(values)\n",
    "    return values[n - 1] - values[0]"
   ]
  },
  {
   "cell_type": "markdown",
   "id": "67817ba5-7243-4d0a-b64e-d5c421ab2dbd",
   "metadata": {},
   "source": [
    "## Wariancja"
   ]
  },
  {
   "cell_type": "code",
   "execution_count": 8,
   "id": "90338d14-32fc-45ce-ade2-15ab66b7505b",
   "metadata": {},
   "outputs": [],
   "source": [
    "def variance(values):\n",
    "    n = len(values)\n",
    "    m = mean(values)\n",
    "    variance = 0\n",
    "    for value in values:\n",
    "        variance += (value - m) ** 2\n",
    "    variance /= (n - 1)\n",
    "    return variance"
   ]
  },
  {
   "cell_type": "markdown",
   "id": "f643fad3-bb10-4e24-bf19-ce00f8a97cc0",
   "metadata": {},
   "source": [
    "## Średnie odchylenie"
   ]
  },
  {
   "cell_type": "code",
   "execution_count": null,
   "id": "5d2031fe-aa75-4de2-b3a2-92b18b9523b6",
   "metadata": {},
   "outputs": [],
   "source": [
    "def average_deviation(values):\n",
    "    n = len(values)\n",
    "    deviation = 0\n",
    "    m = mean(values)\n",
    "    for value in values:\n",
    "        deviation += abs(value - m)\n",
    "    return deviation / n"
   ]
  },
  {
   "cell_type": "markdown",
   "id": "528c56cb-c007-43b9-8475-6293ed8fd4d7",
   "metadata": {},
   "source": [
    "## Dolny kwartyl"
   ]
  },
  {
   "cell_type": "code",
   "execution_count": null,
   "id": "b27b6774-5bac-403e-82ba-49e2d02958ae",
   "metadata": {},
   "outputs": [],
   "source": [
    "def left_hinge(values):\n",
    "    med = median(values)\n",
    "    lower_values = []\n",
    "    for value in values:\n",
    "        if value <= med:\n",
    "            lower_values.append(value)\n",
    "    return median(lower_values)"
   ]
  },
  {
   "cell_type": "markdown",
   "id": "84d1c139-a1d0-479b-9a58-380db5d5d946",
   "metadata": {},
   "source": [
    "## Górny kwartyl"
   ]
  },
  {
   "cell_type": "code",
   "execution_count": null,
   "id": "3e6bab98-dd71-4a6f-a526-ee7a7333c3e0",
   "metadata": {},
   "outputs": [],
   "source": [
    "def right_hinge(values):\n",
    "    med = median(values)\n",
    "    upper_values = []\n",
    "    for value in values:\n",
    "        if value > med:\n",
    "            upper_values.append(value)\n",
    "    return median(upper_values)"
   ]
  },
  {
   "cell_type": "code",
   "execution_count": null,
   "id": "c82afebc-36eb-4192-8167-ac7502bae89d",
   "metadata": {},
   "outputs": [],
   "source": [
    "def print_info(values):\n",
    "    print(\"Mean:\\n\", round(mean(values), 2))\n",
    "\n",
    "    print(\"Median:\\n\", round(median(values.tolist()), 2))\n",
    "\n",
    "    print(\"Range:\\n:\", round(sample_range(values), 2))\n",
    "\n",
    "    print(\"Variance:\\n\", round(variance(values), 2))\n",
    "\n",
    "    print(\"Standard deviation:\\n\", round(variance(values) ** 1 / 2, 2))\n",
    "\n",
    "    print(\"Average deviation:\\n\", round(average_deviation(values), 2))\n",
    "\n",
    "    print(\"Right hinge:\\n\", round(right_hinge(x_values.tolist()),2))\n",
    "\n",
    "    print(\"Left hinge:\\n\", round(left_hinge(x_values.tolist()),2))"
   ]
  },
  {
   "cell_type": "code",
   "execution_count": 11,
   "id": "d5c87a18-c965-4abe-91bc-3e97bd6a6033",
   "metadata": {},
   "outputs": [],
   "source": [
    "x_values = df[\"laps_driven\"].astype(int)"
   ]
  },
  {
   "cell_type": "code",
   "execution_count": null,
   "id": "e6a65f7b-a324-4cae-97c2-f60f01446077",
   "metadata": {},
   "outputs": [],
   "source": [
    "print_info(x_values)"
   ]
  },
  {
   "cell_type": "markdown",
   "id": "6deb70b7-55b6-43f0-8f69-e399048d58ca",
   "metadata": {},
   "source": [
    "## Histogram\n"
   ]
  },
  {
   "cell_type": "code",
   "execution_count": 10,
   "id": "de6233b7-d7c1-478e-96bb-a379ebf2b8e1",
   "metadata": {},
   "outputs": [
    {
     "ename": "NameError",
     "evalue": "name 'x_values' is not defined",
     "output_type": "error",
     "traceback": [
      "\u001b[1;31m---------------------------------------------------------------------------\u001b[0m",
      "\u001b[1;31mNameError\u001b[0m                                 Traceback (most recent call last)",
      "Cell \u001b[1;32mIn[10], line 1\u001b[0m\n\u001b[1;32m----> 1\u001b[0m plt\u001b[38;5;241m.\u001b[39mhist(\u001b[43mx_values\u001b[49m, bins\u001b[38;5;241m=\u001b[39m\u001b[38;5;241m15\u001b[39m)\n\u001b[0;32m      2\u001b[0m plt\u001b[38;5;241m.\u001b[39mtitle(\u001b[38;5;124m\"\u001b[39m\u001b[38;5;124mHistogram\u001b[39m\u001b[38;5;124m\"\u001b[39m)\n\u001b[0;32m      3\u001b[0m plt\u001b[38;5;241m.\u001b[39mxlabel(\u001b[38;5;124m\"\u001b[39m\u001b[38;5;124mLaps driven\u001b[39m\u001b[38;5;124m\"\u001b[39m)\n",
      "\u001b[1;31mNameError\u001b[0m: name 'x_values' is not defined"
     ]
    }
   ],
   "source": [
    "plt.hist(x_values, bins=15)\n",
    "plt.title(\"Histogram\")\n",
    "plt.xlabel(\"Laps driven\")\n",
    "plt.ylabel(\"Amount\")\n",
    "plt.show()"
   ]
  },
  {
   "cell_type": "markdown",
   "id": "8453dd09-e215-4114-b110-a39fa9d71a4c",
   "metadata": {},
   "source": [
    "## Boxplot"
   ]
  },
  {
   "cell_type": "code",
   "execution_count": null,
   "id": "77418aaf-7417-4690-a473-0ea0e259a546",
   "metadata": {},
   "outputs": [],
   "source": [
    "plt.boxplot(x_values)\n",
    "plt.title(\"Boxplot\")\n",
    "plt.xlabel(\"Laps driven\")\n",
    "plt.show()"
   ]
  },
  {
   "cell_type": "markdown",
   "id": "cab8792b-9adf-49c9-8bf7-38a7281f44c9",
   "metadata": {},
   "source": [
    "## Vioplot"
   ]
  },
  {
   "cell_type": "code",
   "execution_count": null,
   "id": "f52ee915-2905-4f9d-822a-fef72738f128",
   "metadata": {},
   "outputs": [],
   "source": [
    "sns.violinplot(x_values)\n",
    "plt.title(\"Violinplot\")\n",
    "plt.show()"
   ]
  }
 ],
 "metadata": {
  "kernelspec": {
   "display_name": "Python 3 (ipykernel)",
   "language": "python",
   "name": "python3"
  },
  "language_info": {
   "codemirror_mode": {
    "name": "ipython",
    "version": 3
   },
   "file_extension": ".py",
   "mimetype": "text/x-python",
   "name": "python",
   "nbconvert_exporter": "python",
   "pygments_lexer": "ipython3",
   "version": "3.11.2"
  }
 },
 "nbformat": 4,
 "nbformat_minor": 5
}
