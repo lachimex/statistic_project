{
 "cells": [
  {
   "cell_type": "code",
   "execution_count": null,
   "id": "6113367e-8420-40d0-a7e1-57c327819962",
   "metadata": {},
   "outputs": [],
   "source": [
    "import sqlite3\n",
    "import pandas as pd\n",
    "import matplotlib.pyplot as plt\n",
    "import seaborn as sns\n",
    "\n",
    "# Connect to SQLite database\n",
    "db_name = '../f1.db'\n",
    "connection = sqlite3.connect(db_name)\n",
    "\n",
    "# Query the data from the table\n",
    "query = 'select ra.name, ra.year, d.forename, d.surname, c.name, re.positionOrder, re.laps, s.status from results re inner join races ra on ra.raceId = re.raceId inner join drivers d on d.driverId = re.driverId inner join constructors c on c.constructorId = re.constructorId inner join status s on s.statusId = re.statusId'\n",
    "result = connection.execute(query).fetchall()\n",
    "\n",
    "# Get column names from the cursor description\n",
    "columns = [\"race_name\", \"race_year\", \"driver_firstname\", \"driver_lastname\", \"constructor_name\", \"driver_final_position\", \"laps_driven\", \"ending\"]\n",
    "\n",
    "# Create a DataFrame\n",
    "df = pd.DataFrame(result, columns=columns)\n",
    "\n",
    "# Close the connection\n",
    "connection.close()\n",
    "\n",
    "# Print the DataFrame\n",
    "print(df)"
   ]
  }
 ],
 "metadata": {
  "kernelspec": {
   "display_name": "Python 3 (ipykernel)",
   "language": "python",
   "name": "python3"
  },
  "language_info": {
   "codemirror_mode": {
    "name": "ipython",
    "version": 3
   },
   "file_extension": ".py",
   "mimetype": "text/x-python",
   "name": "python",
   "nbconvert_exporter": "python",
   "pygments_lexer": "ipython3",
   "version": "3.11.2"
  }
 },
 "nbformat": 4,
 "nbformat_minor": 5
}
